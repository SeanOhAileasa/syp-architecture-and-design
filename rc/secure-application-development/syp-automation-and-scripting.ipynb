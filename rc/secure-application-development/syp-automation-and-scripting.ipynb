{
 "cells": [
  {
   "cell_type": "markdown",
   "id": "d4ee9e4b",
   "metadata": {},
   "source": [
    "***\n",
    "< [Home](https://github.com/SeanOhAileasa) | [README](https://github.com/SeanOhAileasa/syp-architecture-and-design/blob/main/README.md) >\n",
    "\n",
    "## CompTIA Security+ - Course Material 2022\n",
    "###### Topic: ``Automation and Scripting``\n",
    "***"
   ]
  },
  {
   "cell_type": "markdown",
   "id": "b82b07fb",
   "metadata": {},
   "source": [
    "Course material for the ``CompTIA Security+`` module of the ``ICT Associate Apprenticeship (Cybersecurity)`` programme."
   ]
  },
  {
   "cell_type": "markdown",
   "id": "e7228f57",
   "metadata": {},
   "source": [
    "<a id=\"top\"></a>\n",
    "***\n",
    "## Table of Contents\n",
    "***"
   ]
  },
  {
   "cell_type": "markdown",
   "id": "c2bb5e7b",
   "metadata": {},
   "source": [
    "### [Automation and Scripting](#a) <br/><br/>\n",
    "\n",
    "- [Continuous Integration - CI](#b) <br/><br/>\n",
    "- [Continuous Delivery / Deployment - CD](#c)\n",
    "<hr width=50%;>"
   ]
  },
  {
   "cell_type": "markdown",
   "id": "bf2b95e2",
   "metadata": {},
   "source": [
    "***\n",
    "## END"
   ]
  },
  {
   "cell_type": "markdown",
   "id": "34aa6eb5",
   "metadata": {},
   "source": [
    "< [Table of Contents](#top) | [References](#references) >\n",
    "<a id=\"a\"></a>\n",
    "***\n",
    "### Automation and Scripting\n",
    "***"
   ]
  },
  {
   "cell_type": "markdown",
   "id": "68a7347e",
   "metadata": {},
   "source": [
    "The application development process is a constantly moving and constantly changing process and it becomes important to be able to keep up with these changes, not only so that the application can change, but so that the security based on that application can stay up to date. \n",
    "\n",
    "Can also create automation around the deployment of these applications and automation based on how we react to problems that might occur when that application is executing -for example, if we know that the storage area of log files for an application was to fill up, it would cause the application to fail, so we might want to constantly monitor that particular drive and make sure that it never gets to a point where it gets too full or too highly utilized.\n",
    "\n",
    "If we do constantly monitor this drive, and we notice that it’s running out of drive space, we can then automatically work behind the scenes to delete any older files or free up any needed disk space. \n",
    "\n",
    "These checks become especially important for cloud-based technologies because they may be automatically provisioned and deprovisioned and we need to perform checks when we’re provisioning and adding that application instance and perform other checks when we’re deprovisioning that application."
   ]
  },
  {
   "cell_type": "markdown",
   "id": "84b00380",
   "metadata": {},
   "source": [
    "< [Table of Contents](#top) | [References](#references) >\n",
    "<a id=\"b\"></a>\n",
    "***\n",
    "###### Continuous Integration - CI\n",
    "***"
   ]
  },
  {
   "cell_type": "markdown",
   "id": "e7681019",
   "metadata": {},
   "source": [
    "One important place to use this automation is when we are doing ``Continuous Integration``, or ``CI`` - this is when the application developers may constantly be updating an application and perhaps even merging it into a central repository many times a day. \n",
    "\n",
    "This, of course, could open up the potential for a security issue, so we need to make sure that we have the automation in place to perform these security checks. \n",
    "\n",
    "If a developer checks in some new code, then there are some automated security checks that we know have to be made and then we need to evaluate the updated code with the existing set of security baselines. \n",
    "\n",
    "Once the software comes out of the development process, there might be even more extensive security checks made so that we can be sure that anything deployed to production will be as safe as possible."
   ]
  },
  {
   "cell_type": "markdown",
   "id": "b4da2efe",
   "metadata": {},
   "source": [
    "< [Table of Contents](#top) | [References](#references) >\n",
    "<a id=\"c\"></a>\n",
    "***\n",
    "###### Continuous Delivery / Deployment - CD\n",
    "***"
   ]
  },
  {
   "cell_type": "markdown",
   "id": "9f4ebf1f",
   "metadata": {},
   "source": [
    "If we can automate the checks during the development process, then we should also be able to automate the checks during the testing process - this is called ``Continuous Delivery``, where we’re going to automate the testing and the release of this particular application. \n",
    "\n",
    "Our automated security checks will occur during the testing process and it will wait for us to click a button to deploy this application into production.\n",
    "\n",
    "If you want to have the entire process automated, we refer to that as ``Continuous Deployment``.\n",
    "\n",
    "With continuous deployment, we’re not waiting for a human being to click a button and send that application into production - instead, the entire testing process and the deployment process is automated - if a problem is found during that testing process, the application will obviously not be pushed to production but if all of our automated security checks go through all of the code, and everything looks perfect, we can automatically send that to production without any delays at all."
   ]
  },
  {
   "cell_type": "markdown",
   "id": "2cc20932",
   "metadata": {},
   "source": [
    "***\n",
    "## END"
   ]
  },
  {
   "cell_type": "markdown",
   "id": "e0e42d51",
   "metadata": {},
   "source": [
    "< [Table of Contents](#top) >\n",
    "<a id=\"references\"></a>\n",
    "***\n",
    "## References\n",
    "***"
   ]
  },
  {
   "cell_type": "markdown",
   "id": "f8aaecbc",
   "metadata": {},
   "source": [
    "J. \"Professor\" Messer, \"CompTIA Security+ (SY0-601) Course Notes,\" [professormesser.com](https://web.archive.org/web/20220521181010/https://www.professormesser.com/security-plus/sy0-601/sy0-601-video/sy0-601-comptia-security-plus-course/), September 2021."
   ]
  },
  {
   "cell_type": "markdown",
   "id": "b33c372a",
   "metadata": {},
   "source": [
    "***\n",
    "## END"
   ]
  },
  {
   "cell_type": "markdown",
   "id": "e5961b4d",
   "metadata": {},
   "source": [
    "< [Table of Contents](#top) | [References](#references) >\n",
    "<a id=\"appendix\"></a>\n",
    "***\n",
    "## Appendix\n",
    "***"
   ]
  },
  {
   "cell_type": "markdown",
   "id": "00d82a82",
   "metadata": {},
   "source": [
    "***\n",
    "## END"
   ]
  },
  {
   "cell_type": "code",
   "execution_count": 1,
   "id": "706756a2",
   "metadata": {},
   "outputs": [
    {
     "name": "stderr",
     "output_type": "stream",
     "text": [
      "C:\\Users\\SeanOhAileasa\\AppData\\Local\\Temp\\ipykernel_15024\\1322614208.py:1: DeprecationWarning: Importing display from IPython.core.display is deprecated since IPython 7.14, please import from IPython display\n",
      "  from IPython.core.display import display,HTML\n"
     ]
    },
    {
     "data": {
      "text/html": [
       "<style>.container { width:100% !important; }</style>"
      ],
      "text/plain": [
       "<IPython.core.display.HTML object>"
      ]
     },
     "metadata": {},
     "output_type": "display_data"
    }
   ],
   "source": [
    "from IPython.core.display import display,HTML\n",
    "display(HTML(\"<style>.container { width:100% !important; }</style>\"))"
   ]
  },
  {
   "cell_type": "markdown",
   "id": "899c1783",
   "metadata": {},
   "source": [
    "# END JUPYTER NOTEBOOK"
   ]
  }
 ],
 "metadata": {
  "kernelspec": {
   "display_name": "Python 3 (ipykernel)",
   "language": "python",
   "name": "python3"
  },
  "language_info": {
   "codemirror_mode": {
    "name": "ipython",
    "version": 3
   },
   "file_extension": ".py",
   "mimetype": "text/x-python",
   "name": "python",
   "nbconvert_exporter": "python",
   "pygments_lexer": "ipython3",
   "version": "3.9.12"
  }
 },
 "nbformat": 4,
 "nbformat_minor": 5
}
