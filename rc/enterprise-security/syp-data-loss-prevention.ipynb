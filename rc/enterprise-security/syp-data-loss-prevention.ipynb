{
 "cells": [
  {
   "cell_type": "markdown",
   "id": "d4ee9e4b",
   "metadata": {},
   "source": [
    "***\n",
    "< [Home](https://github.com/SeanOhAileasa) | [README](https://github.com/SeanOhAileasa/syp-architecture-and-design/blob/main/README.md) >\n",
    "\n",
    "## CompTIA Security+ - Course Material 2022\n",
    "###### Topic: ``Data Loss Prevention``\n",
    "***"
   ]
  },
  {
   "cell_type": "markdown",
   "id": "b82b07fb",
   "metadata": {},
   "source": [
    "Course material for the ``CompTIA Security+`` module of the ``ICT Associate Apprenticeship (Cybersecurity)`` programme."
   ]
  },
  {
   "cell_type": "markdown",
   "id": "e7228f57",
   "metadata": {},
   "source": [
    "<a id=\"top\"></a>\n",
    "***\n",
    "## Table of Contents\n",
    "***"
   ]
  },
  {
   "cell_type": "markdown",
   "id": "c2bb5e7b",
   "metadata": {},
   "source": [
    "### [Data Loss Prevention](#a) <br/><br/>\n",
    "\n",
    "- [DLP Systems](#b) <br/><br/>\n",
    "- [USB Blocking](#c) <br/><br/>\n",
    "    - [November 2008 - US Department of Defence](#d) <br/><br/>\n",
    "        - [``agent.btz``](#d) <br/><br/>\n",
    "- [Cloud-based DLP](#e) <br/><br/>\n",
    "- [DLP and Email](#f) <br/><br/>\n",
    "    - [November 2016 - Boeing](#g) \n",
    "<hr width=50%;>"
   ]
  },
  {
   "cell_type": "markdown",
   "id": "bf2b95e2",
   "metadata": {},
   "source": [
    "***\n",
    "## END"
   ]
  },
  {
   "cell_type": "markdown",
   "id": "34aa6eb5",
   "metadata": {},
   "source": [
    "< [Table of Contents](#top) | [References](#references) >\n",
    "<a id=\"a\"></a>\n",
    "***\n",
    "### Data Loss Prevention - DLP\n",
    "***"
   ]
  },
  {
   "cell_type": "markdown",
   "id": "27130f3e",
   "metadata": {},
   "source": [
    "We maintain and collect a lot of different types of data on our networks - could keep social security numbers, credit card numbers, health care information, and other sensitive data that we must protect - if attackers focus on our network, they’ll want to have access to this sensitive information."
   ]
  },
  {
   "cell_type": "markdown",
   "id": "84b00380",
   "metadata": {},
   "source": [
    "< [Table of Contents](#top) | [References](#references) >\n",
    "<a id=\"b\"></a>\n",
    "***\n",
    "###### DLP Systems\n",
    "***"
   ]
  },
  {
   "cell_type": "markdown",
   "id": "e05c501e",
   "metadata": {},
   "source": [
    "There are so many places to obtain and store this information on our network, so we need intelligent systems called Data Loss Prevention, or DLP, that’s able to look in many different locations and protect our data from prying eyes. \n",
    "\n",
    "An endpoint DLP solution would reside on our local workstations and devices and they’re examining everything that is being transferred into or out of our device.\n",
    "\n",
    "Can also have DLP technologies on our network that’s examining all of the packets going across the network and making sure that no sensitive information is stored in the network traffic. \n",
    "\n",
    "To look at data at rest on our servers, we may want to have a DLP system that is running on the servers themselves. "
   ]
  },
  {
   "cell_type": "markdown",
   "id": "b4da2efe",
   "metadata": {},
   "source": [
    "< [Table of Contents](#top) | [References](#references) >\n",
    "<a id=\"c\"></a>\n",
    "***\n",
    "###### USB Blocking\n",
    "***"
   ]
  },
  {
   "cell_type": "markdown",
   "id": "8785e09b",
   "metadata": {},
   "source": [
    "In some cases, DLP is designed to block access to different types of hardware, for example, DLP on a workstation would be able to allow or disallow access to data that’s being stored on a USB-connected drive."
   ]
  },
  {
   "cell_type": "markdown",
   "id": "7b10c3a2",
   "metadata": {},
   "source": [
    "< [Table of Contents](#top) | [References](#references) >\n",
    "<a id=\"d\"></a>\n",
    "***\n",
    "###### USB Blocking - November 2008 - US Department of Defence - ``agent.btz``\n",
    "***"
   ]
  },
  {
   "cell_type": "markdown",
   "id": "d4b9df28",
   "metadata": {},
   "source": [
    "An example of how important it is to have DLP associated with these USB flash drives occurred in November of 2008 with the US Department of Defense, where suddenly, a worm was able to move throughout the network because it was replicating itself using USB storage. \n",
    "\n",
    "The US Department of Defense immediately banned the use of USB-connected media devices and blocked all of those devices from working on their network. \n",
    "\n",
    "Every device on the US DoD network had to be updated to be sure that this DLP solution was in place - they finally lifted the ban in February of 2010 and put in much stricter rules on how these flash drives were able to be used."
   ]
  },
  {
   "cell_type": "markdown",
   "id": "1ce9ff85",
   "metadata": {},
   "source": [
    "< [Table of Contents](#top) | [References](#references) >\n",
    "<a id=\"e\"></a>\n",
    "***\n",
    "###### Cloud-based DLP\n",
    "***"
   ]
  },
  {
   "cell_type": "markdown",
   "id": "8e056b0d",
   "metadata": {},
   "source": [
    "Referred to our devices, and our networks, and our servers but what about devices that are stored outside of our organization in the cloud? \n",
    "\n",
    "Well, of course, there’s cloud-based data loss prevention technologies as well - this type of DLP also lives in the cloud and it’s able to look for all of the traffic going through to see if any particular predefined data strings exist within those data flows. \n",
    "\n",
    "This cloud-based DLP could also block data from going to certain URLs to prevent people from storing that data on an insecure cloud-based storage system. \n",
    "\n",
    "This could also block viruses, and malware, and anything else that might traverse the network. "
   ]
  },
  {
   "cell_type": "markdown",
   "id": "d87809fd",
   "metadata": {},
   "source": [
    "< [Table of Contents](#top) | [References](#references) >\n",
    "<a id=\"f\"></a>\n",
    "***\n",
    "###### DLP and Email\n",
    "***"
   ]
  },
  {
   "cell_type": "markdown",
   "id": "c372f081",
   "metadata": {},
   "source": [
    "The ability to send and receive emails also makes it very easy to transfer sensitive information into and out of your network - to be able to prevent this, we need to have data loss prevention on our email systems - this will look at both inbound and outbound emails and block any information that is categorized as sensitive.\n",
    "\n",
    "Inbound emails can be filtered with this DLP using keywords or by identifying emails that are coming from imposters - these emails are then quarantined and can be examined by an email administrator to validate whether this is legitimately a DLP filtering function or if it may be a false positive. \n",
    "\n",
    "A good example of outbound DLP filtering might be to block anything that looks like a wire transfer – maybe somebody trying to transfer W-2 information or anything related to employees’ personal information."
   ]
  },
  {
   "cell_type": "markdown",
   "id": "1256d7bf",
   "metadata": {},
   "source": [
    "< [Table of Contents](#top) | [References](#references) >\n",
    "<a id=\"g\"></a>\n",
    "***\n",
    "###### November 2016 - Boeing\n",
    "***"
   ]
  },
  {
   "cell_type": "markdown",
   "id": "dcf36797",
   "metadata": {},
   "source": [
    "A good example of how important it is to have DLP in our email systems occurred in November of 2016 - an employee at the Boeing organization e-mailed their spouse a spreadsheet that they would then be able to use as a template for a different project. \n",
    "\n",
    "Unfortunately, hidden in that template spreadsheet was the personal information of 36,000 Boeing employees and by sending this information to his wife over nonsecure channels into their own personal email, he had now transferred out social security numbers, dates of birth, and much more information as well.\n",
    "\n",
    "Ironically, Boeing does sell their own version of a DLP software but it wasn’t in use in this particular case because it’s only used on classified networks - this is just another example of how important DLP is, whether it’s on your servers, your network, or your email system."
   ]
  },
  {
   "cell_type": "markdown",
   "id": "2cc20932",
   "metadata": {},
   "source": [
    "***\n",
    "## END"
   ]
  },
  {
   "cell_type": "markdown",
   "id": "e0e42d51",
   "metadata": {},
   "source": [
    "< [Table of Contents](#top) >\n",
    "<a id=\"references\"></a>\n",
    "***\n",
    "## References\n",
    "***"
   ]
  },
  {
   "cell_type": "markdown",
   "id": "f8aaecbc",
   "metadata": {},
   "source": [
    "J. \"Professor\" Messer, \"CompTIA Security+ (SY0-601) Course Notes,\" [professormesser.com](https://web.archive.org/web/20220521181010/https://www.professormesser.com/security-plus/sy0-601/sy0-601-video/sy0-601-comptia-security-plus-course/), September 2021."
   ]
  },
  {
   "cell_type": "markdown",
   "id": "b33c372a",
   "metadata": {},
   "source": [
    "***\n",
    "## END"
   ]
  },
  {
   "cell_type": "markdown",
   "id": "e5961b4d",
   "metadata": {},
   "source": [
    "< [Table of Contents](#top) | [References](#references) >\n",
    "<a id=\"appendix\"></a>\n",
    "***\n",
    "## Appendix\n",
    "***"
   ]
  },
  {
   "cell_type": "markdown",
   "id": "00d82a82",
   "metadata": {},
   "source": [
    "***\n",
    "## END"
   ]
  },
  {
   "cell_type": "code",
   "execution_count": 1,
   "id": "706756a2",
   "metadata": {},
   "outputs": [
    {
     "name": "stderr",
     "output_type": "stream",
     "text": [
      "C:\\Users\\SeanOhAileasa\\AppData\\Local\\Temp\\ipykernel_13944\\1322614208.py:1: DeprecationWarning: Importing display from IPython.core.display is deprecated since IPython 7.14, please import from IPython display\n",
      "  from IPython.core.display import display,HTML\n"
     ]
    },
    {
     "data": {
      "text/html": [
       "<style>.container { width:100% !important; }</style>"
      ],
      "text/plain": [
       "<IPython.core.display.HTML object>"
      ]
     },
     "metadata": {},
     "output_type": "display_data"
    }
   ],
   "source": [
    "from IPython.core.display import display,HTML\n",
    "display(HTML(\"<style>.container { width:100% !important; }</style>\"))"
   ]
  },
  {
   "cell_type": "markdown",
   "id": "899c1783",
   "metadata": {},
   "source": [
    "# END JUPYTER NOTEBOOK"
   ]
  }
 ],
 "metadata": {
  "kernelspec": {
   "display_name": "Python 3 (ipykernel)",
   "language": "python",
   "name": "python3"
  },
  "language_info": {
   "codemirror_mode": {
    "name": "ipython",
    "version": 3
   },
   "file_extension": ".py",
   "mimetype": "text/x-python",
   "name": "python",
   "nbconvert_exporter": "python",
   "pygments_lexer": "ipython3",
   "version": "3.9.12"
  }
 },
 "nbformat": 4,
 "nbformat_minor": 5
}
