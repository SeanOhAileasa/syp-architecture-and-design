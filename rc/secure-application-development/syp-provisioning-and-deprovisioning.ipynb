{
 "cells": [
  {
   "cell_type": "markdown",
   "id": "d4ee9e4b",
   "metadata": {},
   "source": [
    "***\n",
    "< [Home](https://github.com/SeanOhAileasa) | [README](https://github.com/SeanOhAileasa/syp-architecture-and-design/blob/main/README.md) >\n",
    "\n",
    "## CompTIA Security+ - Course Material 2022\n",
    "###### Topic: ``Provisioning and Deprovisioning``\n",
    "***"
   ]
  },
  {
   "cell_type": "markdown",
   "id": "b82b07fb",
   "metadata": {},
   "source": [
    "Course material for the ``CompTIA Security+`` module of the ``ICT Associate Apprenticeship (Cybersecurity)`` programme."
   ]
  },
  {
   "cell_type": "markdown",
   "id": "e7228f57",
   "metadata": {},
   "source": [
    "<a id=\"top\"></a>\n",
    "***\n",
    "## Table of Contents\n",
    "***"
   ]
  },
  {
   "cell_type": "markdown",
   "id": "c2bb5e7b",
   "metadata": {},
   "source": [
    "### [Provisioning and Deprovisioning](#a) <br/><br/>\n",
    "\n",
    "- [Provisioning](#b) <br/><br/>\n",
    "- [Scalability and Elasticity](#c) <br/><br/>\n",
    "- [Orchestration](#d) <br/><br/>\n",
    "- [Deprovisioning](#e) \n",
    "<hr width=50%;>"
   ]
  },
  {
   "cell_type": "markdown",
   "id": "bf2b95e2",
   "metadata": {},
   "source": [
    "***\n",
    "## END"
   ]
  },
  {
   "cell_type": "markdown",
   "id": "34aa6eb5",
   "metadata": {},
   "source": [
    "< [Table of Contents](#top) | [References](#references) >\n",
    "<a id=\"a\"></a>\n",
    "***\n",
    "### Provisioning and Deprovisioning\n",
    "***"
   ]
  },
  {
   "cell_type": "markdown",
   "id": "84b00380",
   "metadata": {},
   "source": [
    "< [Table of Contents](#top) | [References](#references) >\n",
    "<a id=\"b\"></a>\n",
    "***\n",
    "###### Provisioning\n",
    "***"
   ]
  },
  {
   "cell_type": "markdown",
   "id": "fdd1515d",
   "metadata": {},
   "source": [
    "Provisioning is the process of making something available - if you are provisioning an application, then you’re probably going to deploy a web server, a database server, there may be a middleware server and other configuration and settings to be able to use this particular application. That’s one of the reasons why, when we describe the deployment of an application, we’re referring to it as an application instance, because it usually involves many different components all working together.\n",
    "\n",
    "Of course, the provisioning of this application instance also includes security components. We want to be sure that the operating system and the application are up to date with the latest security patches.\n",
    "\n",
    "We also want to be sure that our network design and architecture is also secure, so we might want to create a secure VLAN just for this application - there might be a set of configurations and a firewall for internal access and a completely different set of security requirements for external access.\n",
    "\n",
    "If we’re deploying software to a workstation, we may want to run our own scans of that software and make sure there’s nothing inside of that binary that may look malicious - this also would be a good time to check the security posture of the workstation and make sure that the workstation itself is up to date with the latest patches and is running all of the latest security configurations."
   ]
  },
  {
   "cell_type": "markdown",
   "id": "b4da2efe",
   "metadata": {},
   "source": [
    "< [Table of Contents](#top) | [References](#references) >\n",
    "<a id=\"c\"></a>\n",
    "***\n",
    "###### Scalability and Elasticity\n",
    "***"
   ]
  },
  {
   "cell_type": "markdown",
   "id": "08905f8d",
   "metadata": {},
   "source": [
    "The workload associated with this provisioned application can vary widely depending on many different criteria - maybe at a particular time of the year, an application gets busier, or maybe the popularity of an application has taken off and suddenly, a lot of people are wanting to use this application.\n",
    "\n",
    "When we first build this application instance, we’re creating a particular level of scalability. We know that based on the particular web server, database server, and all of the other components that make up this application instance, that we can support a certain load, for example, you might build an application instance that can handle 100,000 transactions per second and everything that you put together would be able to handle any load up to that point.\n",
    "\n",
    "But if an application becomes very popular, you may find that 100,000 transactions per second isn’t enough - maybe you need to increase the capabilities of this application to support 500,000 transactions per second - to be able to do that, we may deploy multiple application instances - that increase or even decrease of available resources for an application refers to elasticity. \n",
    "\n",
    "Define the elasticity as the ability to increase or decrease the available resources for this application based on the workload. \n",
    "\n",
    "As this application becomes more popular, we can create new application instances to increase the number of available transactions per second - if we know that our application scalability can support 100,000 transactions per second and we suddenly need 500,000 transactions per second, then we can take advantage of this elasticity and create five separate application instances all running simultaneously.\n",
    "\n",
    "If the application becomes less popular, then elasticity works in the other direction and we can decrease the number of application instances available, thereby decreasing the number of transactions per second that can be supported by this application."
   ]
  },
  {
   "cell_type": "markdown",
   "id": "7b10c3a2",
   "metadata": {},
   "source": [
    "< [Table of Contents](#top) | [References](#references) >\n",
    "<a id=\"d\"></a>\n",
    "***\n",
    "###### Orchestration\n",
    "***"
   ]
  },
  {
   "cell_type": "markdown",
   "id": "69f41d8a",
   "metadata": {},
   "source": [
    "Once you have this application that can be provisioned, you might want to automate the process of making this application available through a method called orchestration. \n",
    "\n",
    "Orchestration is really the key to cloud computing because you’re able to automate the provisioning and deprovisioning of these applications.\n",
    "\n",
    "This orchestration allows us to instantly provision an application without any type of human intervention, so we could deploy servers, network configuration, security components, and anything else associated with that application.\n",
    "\n",
    "Can even orchestrate where this application instance will be provisioned, so you may want to have a provisioning of the application in Europe for the times that Europe is awake and then create new application instances in the United States when those particular users are available.\n",
    "\n",
    "Can then automatically deprovision the application instances in Europe as the day is ending and then, ultimately, deprovision the ones in the United States once the sun sets there then the process can restart itself the following day through the automatic provisioning and deprovisioning of the app.\n",
    "\n",
    "Not only are we provisioning the application components, but we’re also provisioning all of the security components as well, so the automation that you’re building with this orchestration is going to apply to all aspects of this application and the security components as well."
   ]
  },
  {
   "cell_type": "markdown",
   "id": "1ce9ff85",
   "metadata": {},
   "source": [
    "< [Table of Contents](#top) | [References](#references) >\n",
    "<a id=\"e\"></a>\n",
    "***\n",
    "###### Deprovisioning\n",
    "***"
   ]
  },
  {
   "cell_type": "markdown",
   "id": "cacfea2b",
   "metadata": {},
   "source": [
    "If we’re building out and provisioning new applications, then, eventually, we may be deprovisioning or removing those application instances as well - this is not simply turning off the application - this is completely removing any remnants of that application from running in your environment.\n",
    "\n",
    "If you’re deprovisioning a web server or database server with an application instance, then you also have to deprovision all of your security components as well - not only are you removing the firewalls and other security devices, you may have to remove individual rules in the existing firewalls that remain, so make sure that if you are provisioning and opening up those firewall rules that you are, during the deprovisioning process, removing those firewall rules.\n",
    "\n",
    "Of course, decisions have to be made over the data that was created while this application was in place. It may be that the data is copied off to a secure area or it may be that everything that was created during the use of that application is now removed during the deprovision process."
   ]
  },
  {
   "cell_type": "markdown",
   "id": "2cc20932",
   "metadata": {},
   "source": [
    "***\n",
    "## END"
   ]
  },
  {
   "cell_type": "markdown",
   "id": "e0e42d51",
   "metadata": {},
   "source": [
    "< [Table of Contents](#top) >\n",
    "<a id=\"references\"></a>\n",
    "***\n",
    "## References\n",
    "***"
   ]
  },
  {
   "cell_type": "markdown",
   "id": "f8aaecbc",
   "metadata": {},
   "source": [
    "J. \"Professor\" Messer, \"CompTIA Security+ (SY0-601) Course Notes,\" [professormesser.com](https://web.archive.org/web/20220521181010/https://www.professormesser.com/security-plus/sy0-601/sy0-601-video/sy0-601-comptia-security-plus-course/), September 2021."
   ]
  },
  {
   "cell_type": "markdown",
   "id": "b33c372a",
   "metadata": {},
   "source": [
    "***\n",
    "## END"
   ]
  },
  {
   "cell_type": "markdown",
   "id": "e5961b4d",
   "metadata": {},
   "source": [
    "< [Table of Contents](#top) | [References](#references) >\n",
    "<a id=\"appendix\"></a>\n",
    "***\n",
    "## Appendix\n",
    "***"
   ]
  },
  {
   "cell_type": "markdown",
   "id": "00d82a82",
   "metadata": {},
   "source": [
    "***\n",
    "## END"
   ]
  },
  {
   "cell_type": "code",
   "execution_count": 1,
   "id": "706756a2",
   "metadata": {},
   "outputs": [
    {
     "name": "stderr",
     "output_type": "stream",
     "text": [
      "C:\\Users\\SeanOhAileasa\\AppData\\Local\\Temp\\ipykernel_15164\\1322614208.py:1: DeprecationWarning: Importing display from IPython.core.display is deprecated since IPython 7.14, please import from IPython display\n",
      "  from IPython.core.display import display,HTML\n"
     ]
    },
    {
     "data": {
      "text/html": [
       "<style>.container { width:100% !important; }</style>"
      ],
      "text/plain": [
       "<IPython.core.display.HTML object>"
      ]
     },
     "metadata": {},
     "output_type": "display_data"
    }
   ],
   "source": [
    "from IPython.core.display import display,HTML\n",
    "display(HTML(\"<style>.container { width:100% !important; }</style>\"))"
   ]
  },
  {
   "cell_type": "markdown",
   "id": "899c1783",
   "metadata": {},
   "source": [
    "# END JUPYTER NOTEBOOK"
   ]
  }
 ],
 "metadata": {
  "kernelspec": {
   "display_name": "Python 3 (ipykernel)",
   "language": "python",
   "name": "python3"
  },
  "language_info": {
   "codemirror_mode": {
    "name": "ipython",
    "version": 3
   },
   "file_extension": ".py",
   "mimetype": "text/x-python",
   "name": "python",
   "nbconvert_exporter": "python",
   "pygments_lexer": "ipython3",
   "version": "3.9.12"
  }
 },
 "nbformat": 4,
 "nbformat_minor": 5
}
