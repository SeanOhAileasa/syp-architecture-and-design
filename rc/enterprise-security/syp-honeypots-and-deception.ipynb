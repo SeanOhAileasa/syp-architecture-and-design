{
 "cells": [
  {
   "cell_type": "markdown",
   "id": "d4ee9e4b",
   "metadata": {},
   "source": [
    "***\n",
    "< [Home](https://github.com/SeanOhAileasa) | [README](https://github.com/SeanOhAileasa/syp-architecture-and-design/blob/main/README.md) >\n",
    "\n",
    "## CompTIA Security+ - Course Material 2022\n",
    "###### Topic: ``Honeypots and Deception``\n",
    "***"
   ]
  },
  {
   "cell_type": "markdown",
   "id": "b82b07fb",
   "metadata": {},
   "source": [
    "Course material for the ``CompTIA Security+`` module of the ``ICT Associate Apprenticeship (Cybersecurity)`` programme."
   ]
  },
  {
   "cell_type": "markdown",
   "id": "e7228f57",
   "metadata": {},
   "source": [
    "<a id=\"top\"></a>\n",
    "***\n",
    "## Table of Contents\n",
    "***"
   ]
  },
  {
   "cell_type": "markdown",
   "id": "c2bb5e7b",
   "metadata": {},
   "source": [
    "### [Honeypots and Deception](#a) <br/><br/>\n",
    "\n",
    "- [Honeypots](#b) <br/><br/>\n",
    "- [Honeynets](#c) <br/><br/>\n",
    "- [Honeyfiles](#d) <br/><br/>\n",
    "- [Fake Telemetry](#e) <br/><br/>\n",
    "    - [Machine Learning](#e) <br/><br/>\n",
    "- [DNS Sinkhole](#f)\n",
    "<hr width=50%;>"
   ]
  },
  {
   "cell_type": "markdown",
   "id": "bf2b95e2",
   "metadata": {},
   "source": [
    "***\n",
    "## END"
   ]
  },
  {
   "cell_type": "markdown",
   "id": "34aa6eb5",
   "metadata": {},
   "source": [
    "< [Table of Contents](#top) | [References](#references) >\n",
    "<a id=\"a\"></a>\n",
    "***\n",
    "### Honeypots and Deception\n",
    "***"
   ]
  },
  {
   "cell_type": "markdown",
   "id": "84b00380",
   "metadata": {},
   "source": [
    "< [Table of Contents](#top) | [References](#references) >\n",
    "<a id=\"b\"></a>\n",
    "***\n",
    "###### Honeypots\n",
    "***"
   ]
  },
  {
   "cell_type": "markdown",
   "id": "80abcf53",
   "metadata": {},
   "source": [
    "A honeypot is a system, or series of systems, that’s designed to look very attractive to an attacker and hopefully, the attacker will try to gain access to these fake honeypot systems that are on your network. \n",
    "\n",
    "The actual attacker is probably not a human being – it’s probably an automated system but that means that we can look to see what processes the attackers are using to identify, and then what methods they’re using during their attack of, these types of systems.\n",
    "\n",
    "The honeypot is effectively a virtual world so that the attacker would be trying to gain access to a fake system and not to your actual production data. \n",
    "\n",
    "There’s many different kinds of honeypot software that you could install on your network - could use ``Kippo``, ``Google Hack Honeypot``, or ``Wordpot``, for example.\n",
    "\n",
    "With the software you’d install, it is a constant battle to make sure that the software you’re using is something that can accurately represent real data and real systems - the attackers have systems in place to perform checks to make sure that the systems they’re attacking are real and not honeypots. \n",
    "\n",
    "Your honeypot software has to be able to look and feel like a real system so that an attacker will attempt the exploits against that honeypot."
   ]
  },
  {
   "cell_type": "markdown",
   "id": "b4da2efe",
   "metadata": {},
   "source": [
    "< [Table of Contents](#top) | [References](#references) >\n",
    "<a id=\"c\"></a>\n",
    "***\n",
    "###### Honeynets\n",
    "***"
   ]
  },
  {
   "cell_type": "markdown",
   "id": "c5324ec9",
   "metadata": {},
   "source": [
    "Once you start adding more honeypots to your network, you’ve created a honeynet - this is multiple honeypots where you can begin gathering information from multiple sources - may find that an attacker starts on one server and goes to others or you may find that multiple attackers arrive at one time performing different functions on different honeypots. \n",
    "\n",
    "A good example of a honeynet and a system that’s in place to be able to share the information that is found in these honeynets can be found at [ [projecthoneypot.org](https://www.projecthoneypot.org/) ]."
   ]
  },
  {
   "cell_type": "markdown",
   "id": "7b10c3a2",
   "metadata": {},
   "source": [
    "< [Table of Contents](#top) | [References](#references) >\n",
    "<a id=\"d\"></a>\n",
    "***\n",
    "###### Honeyfiles\n",
    "***"
   ]
  },
  {
   "cell_type": "markdown",
   "id": "9234c4d6",
   "metadata": {},
   "source": [
    "Inside of your honeypots and your honeynets, you’re going to put your honeyfiles - this is very attractive bait that you’re hoping that the attacker will go after - this might be a file name, for instance, called ``passwords.txt`` which is oh so appealing to that attacker - they want to be sure they gain access to that file.\n",
    "\n",
    "If that file is accessed by the attacker, you can receive an alert that says that someone must have gained access to ``passwords.txt``. It’s effectively a way that you can know if someone did try to attack that system and what type of information they were able to gather."
   ]
  },
  {
   "cell_type": "markdown",
   "id": "1ce9ff85",
   "metadata": {},
   "source": [
    "< [Table of Contents](#top) | [References](#references) >\n",
    "<a id=\"e\"></a>\n",
    "***\n",
    "###### Fake Telemetry - ``ML``\n",
    "***"
   ]
  },
  {
   "cell_type": "markdown",
   "id": "a786bef7",
   "metadata": {},
   "source": [
    "One of the advantages we have with our modern technology is the ability to gather large amounts of data, in some cases very diverse data, and be able to analyze that data to try to find things that are similar or contrasting within those data files. \n",
    "\n",
    "This is machine learning that takes this big data and is able to identify patterns and information within that very large data source. \n",
    "\n",
    "To be able to have this machine learning understand what we’re looking for, we need to train it with actual data, so we’ll feed it with malware, ransomware, viruses, and anything that will show the machine what bad data, or malicious data, might look like. \n",
    "\n",
    "The machine learning programming will then get an understanding of the type of data it should be looking for and how it may be able to identify this malware from the way that it operates rather than from a specific signature. \n",
    "\n",
    "The attackers know that you’re using this type of example to be able to train the machine, so they’ll add their own fake telemetry into this data to try to get the machine to think that the malware is actually something good - this means that they can send this fake telemetry into the machine and once the training is over, they can then send their malicious software through, and the machine will not be able to identify it."
   ]
  },
  {
   "cell_type": "markdown",
   "id": "d87809fd",
   "metadata": {},
   "source": [
    "< [Table of Contents](#top) | [References](#references) >\n",
    "<a id=\"f\"></a>\n",
    "***\n",
    "###### DNS Sinkhole\n",
    "***"
   ]
  },
  {
   "cell_type": "markdown",
   "id": "71758533",
   "metadata": {},
   "source": [
    "Another useful tool for a security professional is a DNS sinkhole. \n",
    "\n",
    "The DNS, of course, is the domain name service that is handing out IP addresses that are associated with fully qualified domain names or FQDNs - it’s very common for a client with an FQDN to be able to ask a DNS server for the proper IP address so that it can then communicate directly with that service.\n",
    "\n",
    "A DNS sinkhole, however, performs the opposite of this process - when the client requests the IP address of a particular FQDN, this device gives a response back with incorrect or invalid information about that service. \n",
    "\n",
    "This can be bad if an attacker is implementing a DNS sinkhole, because they may be able to redirect users to a specific location or may create a denial of service where no one is able to communicate to the proper service.\n",
    "\n",
    "This is more commonly used, however, to provide intelligence for the security professional - we know that there are certain sites that a user will visit if they happen to be infected with a type of malware, so instead of allowing that user to communicate to that external server, we’ll instead configure a DNS sinkhole and if anyone ever requests the IP address of that malicious site, we will provide it with an IP address of a machine inside of our location that we can then create a report on to determine who might be infected with this malware in our organization.\n",
    "\n",
    "This is a function that’s often integrated into an intrusion prevention device or next-generation firewall - if someone tries to communicate out to one of these known malicious sites, the DNS sinkhole will send an IP address that redirects them to a known good site and this also will create an alert, or an alarm, so that the security team within the organization will know that a particular device is infected with this malware. \n",
    "\n",
    "This means that the device with the infection will not be able to communicate out to the command and control and it also means that your security team can clean those devices before that infection spreads."
   ]
  },
  {
   "cell_type": "markdown",
   "id": "2cc20932",
   "metadata": {},
   "source": [
    "***\n",
    "## END"
   ]
  },
  {
   "cell_type": "markdown",
   "id": "e0e42d51",
   "metadata": {},
   "source": [
    "< [Table of Contents](#top) >\n",
    "<a id=\"references\"></a>\n",
    "***\n",
    "## References\n",
    "***"
   ]
  },
  {
   "cell_type": "markdown",
   "id": "f8aaecbc",
   "metadata": {},
   "source": [
    "J. \"Professor\" Messer, \"CompTIA Security+ (SY0-601) Course Notes,\" [professormesser.com](https://web.archive.org/web/20220521181010/https://www.professormesser.com/security-plus/sy0-601/sy0-601-video/sy0-601-comptia-security-plus-course/), September 2021."
   ]
  },
  {
   "cell_type": "markdown",
   "id": "b33c372a",
   "metadata": {},
   "source": [
    "***\n",
    "## END"
   ]
  },
  {
   "cell_type": "markdown",
   "id": "e5961b4d",
   "metadata": {},
   "source": [
    "< [Table of Contents](#top) | [References](#references) >\n",
    "<a id=\"appendix\"></a>\n",
    "***\n",
    "## Appendix\n",
    "***"
   ]
  },
  {
   "cell_type": "markdown",
   "id": "00d82a82",
   "metadata": {},
   "source": [
    "***\n",
    "## END"
   ]
  },
  {
   "cell_type": "code",
   "execution_count": 1,
   "id": "706756a2",
   "metadata": {},
   "outputs": [
    {
     "name": "stderr",
     "output_type": "stream",
     "text": [
      "C:\\Users\\SeanOhAileasa\\AppData\\Local\\Temp\\ipykernel_13736\\1322614208.py:1: DeprecationWarning: Importing display from IPython.core.display is deprecated since IPython 7.14, please import from IPython display\n",
      "  from IPython.core.display import display,HTML\n"
     ]
    },
    {
     "data": {
      "text/html": [
       "<style>.container { width:100% !important; }</style>"
      ],
      "text/plain": [
       "<IPython.core.display.HTML object>"
      ]
     },
     "metadata": {},
     "output_type": "display_data"
    }
   ],
   "source": [
    "from IPython.core.display import display,HTML\n",
    "display(HTML(\"<style>.container { width:100% !important; }</style>\"))"
   ]
  },
  {
   "cell_type": "markdown",
   "id": "899c1783",
   "metadata": {},
   "source": [
    "# END JUPYTER NOTEBOOK"
   ]
  }
 ],
 "metadata": {
  "kernelspec": {
   "display_name": "Python 3 (ipykernel)",
   "language": "python",
   "name": "python3"
  },
  "language_info": {
   "codemirror_mode": {
    "name": "ipython",
    "version": 3
   },
   "file_extension": ".py",
   "mimetype": "text/x-python",
   "name": "python",
   "nbconvert_exporter": "python",
   "pygments_lexer": "ipython3",
   "version": "3.9.12"
  }
 },
 "nbformat": 4,
 "nbformat_minor": 5
}
