{
 "cells": [
  {
   "cell_type": "markdown",
   "id": "d4ee9e4b",
   "metadata": {},
   "source": [
    "***\n",
    "< [Home](https://github.com/SeanOhAileasa) | [README](https://github.com/SeanOhAileasa/syp-architecture-and-design/blob/main/README.md) >\n",
    "\n",
    "## CompTIA Security+ - Course Material 2022\n",
    "###### Topic: ``Virtualization Security``\n",
    "***"
   ]
  },
  {
   "cell_type": "markdown",
   "id": "b82b07fb",
   "metadata": {},
   "source": [
    "Course material for the ``CompTIA Security+`` module of the ``ICT Associate Apprenticeship (Cybersecurity)`` programme."
   ]
  },
  {
   "cell_type": "markdown",
   "id": "e7228f57",
   "metadata": {},
   "source": [
    "<a id=\"top\"></a>\n",
    "***\n",
    "## Table of Contents\n",
    "***"
   ]
  },
  {
   "cell_type": "markdown",
   "id": "c2bb5e7b",
   "metadata": {},
   "source": [
    "### [Virtualization Security](#a) <br/><br/>\n",
    "\n",
    "- [VM Sprawl Avoidance](#b) <br/><br/>\n",
    "- [VM Escape Protection](#c) <br/><br/>\n",
    "- [March 2017 - Escaping the VM](#d) <br/><br/>\n",
    "    - [Pwn20wn Competition¶](#d) \n",
    "<hr width=50%;>"
   ]
  },
  {
   "cell_type": "markdown",
   "id": "bf2b95e2",
   "metadata": {},
   "source": [
    "***\n",
    "## END"
   ]
  },
  {
   "cell_type": "markdown",
   "id": "34aa6eb5",
   "metadata": {},
   "source": [
    "< [Table of Contents](#top) | [References](#references) >\n",
    "<a id=\"a\"></a>\n",
    "***\n",
    "### Virtualization Security\n",
    "***"
   ]
  },
  {
   "cell_type": "markdown",
   "id": "04ab6379",
   "metadata": {},
   "source": [
    "One of the huge advantages that cloud computing brings is the ability to deploy a new set of application instances with the click of a button - this process can be automated so that multiple servers, databases, and security devices can all be deployed automatically at an instant. "
   ]
  },
  {
   "cell_type": "markdown",
   "id": "84b00380",
   "metadata": {},
   "source": [
    "< [Table of Contents](#top) | [References](#references) >\n",
    "<a id=\"b\"></a>\n",
    "***\n",
    "###### VM Sprawl Avoidance\n",
    "***"
   ]
  },
  {
   "cell_type": "markdown",
   "id": "d3e4c5b7",
   "metadata": {},
   "source": [
    "Need to make sure that the process we have for deploying these application instances also considers the process of recovering those deployed instances and returning all of those resources to the pool - this is the problem we have with virtual machine sprawl. \n",
    "\n",
    "We have all of these virtual machines that keep being built on our network and we don’t deprovision these instances when they’re no longer needed. At some point, we aren’t sure exactly which virtual machines are related to which application instances, and now it becomes much more difficult to remove these resources from the network.\n",
    "\n",
    "This is why it’s important to have a formal process for provisioning an application instance, and then the deprovisioning of that application instance. It’s also a good idea to make sure that every virtual object is identified and that you have a way to track it from the moment it’s created until the moment that it’s deprovisioned. "
   ]
  },
  {
   "cell_type": "markdown",
   "id": "b4da2efe",
   "metadata": {},
   "source": [
    "< [Table of Contents](#top) | [References](#references) >\n",
    "<a id=\"c\"></a>\n",
    "***\n",
    "###### VM Escape Protection\n",
    "***"
   ]
  },
  {
   "cell_type": "markdown",
   "id": "02304cec",
   "metadata": {},
   "source": [
    "One of the useful characteristics of a virtual machine is that it is self-contained. \n",
    "\n",
    "Everything happening within that virtual machine only happens as part of that VM and has no effect on any other VMs that might be running on that network.\n",
    "\n",
    "Unfortunately, there is an attack type called a virtual machine escape that would allow someone on one virtual machine to be able to gain access to resources that are on a completely separate virtual machine. \n",
    "\n",
    "This is obviously a significant exploit, because these virtual machines should never be able to share resources between each other and finding an exploit that would allow someone to hop from virtual machine to virtual machine would be a significant security concern.\n",
    "\n",
    "Someone who had access to this kind of exploit would effectively have full control of your virtual environment, your applications, and all of your data."
   ]
  },
  {
   "cell_type": "markdown",
   "id": "7b10c3a2",
   "metadata": {},
   "source": [
    "< [Table of Contents](#top) | [References](#references) >\n",
    "<a id=\"d\"></a>\n",
    "***\n",
    "###### March 2017 - Escaping the VM - Pwn20wn Competition\n",
    "***"
   ]
  },
  {
   "cell_type": "markdown",
   "id": "08b819f7",
   "metadata": {},
   "source": [
    "Fortunately, these types of exploits are very rare but an example of one that occurred was in March of 2017, at the Pwn2Own competition, which is a hacking contest. \n",
    "\n",
    "If you’re able to gain access into a system, you would effectively be able to take that system home with you - this exploit started by taking advantage of a ``JavaScript`` engine bug in ``Microsoft Edge Browser`` - this bug allowed code execution within the Microsoft Edge sandbox, which then allowed someone access to the Windows 10 kernel. \n",
    "\n",
    "That user then took advantage of a Windows 10 kernel bug, which compromised the guest operating system of that virtual machine at which point they were able to take advantage of a hardware simulation bug in VMware, and escape that particular VM host into a separate VM host on that service. \n",
    "\n",
    "This was obviously a significant security flaw, and instead of this being something that was seen in the wild, there were patches deployed for the virtual environment, the operating system, and for the Edge browser."
   ]
  },
  {
   "cell_type": "markdown",
   "id": "2cc20932",
   "metadata": {},
   "source": [
    "***\n",
    "## END"
   ]
  },
  {
   "cell_type": "markdown",
   "id": "e0e42d51",
   "metadata": {},
   "source": [
    "< [Table of Contents](#top) >\n",
    "<a id=\"references\"></a>\n",
    "***\n",
    "## References\n",
    "***"
   ]
  },
  {
   "cell_type": "markdown",
   "id": "f8aaecbc",
   "metadata": {},
   "source": [
    "J. \"Professor\" Messer, \"CompTIA Security+ (SY0-601) Course Notes,\" [professormesser.com](https://web.archive.org/web/20220521181010/https://www.professormesser.com/security-plus/sy0-601/sy0-601-video/sy0-601-comptia-security-plus-course/), September 2021."
   ]
  },
  {
   "cell_type": "markdown",
   "id": "b33c372a",
   "metadata": {},
   "source": [
    "***\n",
    "## END"
   ]
  },
  {
   "cell_type": "markdown",
   "id": "e5961b4d",
   "metadata": {},
   "source": [
    "< [Table of Contents](#top) | [References](#references) >\n",
    "<a id=\"appendix\"></a>\n",
    "***\n",
    "## Appendix\n",
    "***"
   ]
  },
  {
   "cell_type": "markdown",
   "id": "00d82a82",
   "metadata": {},
   "source": [
    "***\n",
    "## END"
   ]
  },
  {
   "cell_type": "code",
   "execution_count": 1,
   "id": "706756a2",
   "metadata": {},
   "outputs": [
    {
     "name": "stderr",
     "output_type": "stream",
     "text": [
      "C:\\Users\\SeanOhAileasa\\AppData\\Local\\Temp\\ipykernel_11548\\1322614208.py:1: DeprecationWarning: Importing display from IPython.core.display is deprecated since IPython 7.14, please import from IPython display\n",
      "  from IPython.core.display import display,HTML\n"
     ]
    },
    {
     "data": {
      "text/html": [
       "<style>.container { width:100% !important; }</style>"
      ],
      "text/plain": [
       "<IPython.core.display.HTML object>"
      ]
     },
     "metadata": {},
     "output_type": "display_data"
    }
   ],
   "source": [
    "from IPython.core.display import display,HTML\n",
    "display(HTML(\"<style>.container { width:100% !important; }</style>\"))"
   ]
  },
  {
   "cell_type": "markdown",
   "id": "899c1783",
   "metadata": {},
   "source": [
    "# END JUPYTER NOTEBOOK"
   ]
  }
 ],
 "metadata": {
  "kernelspec": {
   "display_name": "Python 3 (ipykernel)",
   "language": "python",
   "name": "python3"
  },
  "language_info": {
   "codemirror_mode": {
    "name": "ipython",
    "version": 3
   },
   "file_extension": ".py",
   "mimetype": "text/x-python",
   "name": "python",
   "nbconvert_exporter": "python",
   "pygments_lexer": "ipython3",
   "version": "3.9.12"
  }
 },
 "nbformat": 4,
 "nbformat_minor": 5
}
