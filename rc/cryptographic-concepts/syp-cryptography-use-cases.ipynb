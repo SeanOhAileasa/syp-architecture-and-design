{
 "cells": [
  {
   "cell_type": "markdown",
   "id": "d4ee9e4b",
   "metadata": {},
   "source": [
    "***\n",
    "< [Home](https://github.com/SeanOhAileasa) | [README](https://github.com/SeanOhAileasa/syp-architecture-and-design/blob/main/README.md) >\n",
    "\n",
    "## CompTIA Security+ - Course Material 2022\n",
    "###### Topic: ``Cryptography Use Cases``\n",
    "***"
   ]
  },
  {
   "cell_type": "markdown",
   "id": "b82b07fb",
   "metadata": {},
   "source": [
    "Course material for the ``CompTIA Security+`` module of the ``ICT Associate Apprenticeship (Cybersecurity)`` programme."
   ]
  },
  {
   "cell_type": "markdown",
   "id": "e7228f57",
   "metadata": {},
   "source": [
    "<a id=\"top\"></a>\n",
    "***\n",
    "## Table of Contents\n",
    "***"
   ]
  },
  {
   "cell_type": "markdown",
   "id": "c2bb5e7b",
   "metadata": {},
   "source": [
    "### [Cryptography Use Cases](#a) <br/><br/>\n",
    "\n",
    "- [Low Power Devices](#b) <br/><br/>\n",
    "- [Low Latency](#c) <br/><br/>\n",
    "- [High Resiliency](#d) <br/><br/>\n",
    "    - [Data Integrity](#d) <br/><br/>\n",
    "        - [``Hashing``](#d) <br/><br/>\n",
    "- [Confidentiality](#e) <br/><br/>\n",
    "- [Integrity](#f) <br/><br/>\n",
    "    - [Hashing](#f) <br/><br/>\n",
    "- [Obfuscation](#g) <br/><br/>\n",
    "- [Authentication](#h) <br/><br/>\n",
    "- [Non-repudiation](#i) <br/><br/>\n",
    "    - [``Asymmetric Encryption``](#i) <br/><br/>\n",
    "        - [``Digital Signature``](#i) \n",
    "<hr width=50%;>"
   ]
  },
  {
   "cell_type": "markdown",
   "id": "bf2b95e2",
   "metadata": {},
   "source": [
    "***\n",
    "## END"
   ]
  },
  {
   "cell_type": "markdown",
   "id": "34aa6eb5",
   "metadata": {},
   "source": [
    "< [Table of Contents](#top) | [References](#references) >\n",
    "<a id=\"a\"></a>\n",
    "***\n",
    "### Cryptography Use Cases\n",
    "***"
   ]
  },
  {
   "cell_type": "markdown",
   "id": "4a1a9f05",
   "metadata": {},
   "source": [
    "< [Table of Contents](#top) | [References](#references) >\n",
    "<a id=\"b\"></a>\n",
    "***\n",
    "###### Low Power Devices\n",
    "***"
   ]
  },
  {
   "cell_type": "markdown",
   "id": "64d83d9e",
   "metadata": {},
   "source": [
    "We rely on our mobile phones, our tablets, and other devices to be able to provide us with information throughout the day.\n",
    "\n",
    "These mobile devices have limited storage, limited CPU, there’s a certain battery life associated with these devices and we still want to be sure that all of the data on these devices is secure, so of course encryption is a great way to protect the data that’s on these devices.\n",
    "\n",
    "Given there is a limited amount of power and CPU, we need specialized encryption for these devices.\n",
    "\n",
    "It’s very common to use a smaller ``Symmetric Key``, especially in conjunction with ``Elliptic Curve Cryptography`` or ``ECC``, which is specifically designed for environments like this, where we need very powerful encryption on a device with a limited number of resources."
   ]
  },
  {
   "cell_type": "markdown",
   "id": "b4da2efe",
   "metadata": {},
   "source": [
    "< [Table of Contents](#top) | [References](#references) >\n",
    "<a id=\"c\"></a>\n",
    "***\n",
    "###### Low Latency\n",
    "***"
   ]
  },
  {
   "cell_type": "markdown",
   "id": "88cb6fa8",
   "metadata": {},
   "source": [
    "If we need encryption that works very fast and very efficiently, we can use the low latency associated with ``Symmetric Encryption``. \n",
    "\n",
    "Symmetric encryption also has smaller key sizes, so it might be a better fit for a number of different encryption projects."
   ]
  },
  {
   "cell_type": "markdown",
   "id": "7b10c3a2",
   "metadata": {},
   "source": [
    "< [Table of Contents](#top) | [References](#references) >\n",
    "<a id=\"d\"></a>\n",
    "***\n",
    "###### High Resiliency - Data Integrity - ``Hashing``\n",
    "***"
   ]
  },
  {
   "cell_type": "markdown",
   "id": "f414a436",
   "metadata": {},
   "source": [
    "It’s also important that we’re able to ensure the data remain valid - want to be sure that there’s no opportunity for data to change or be modified without us knowing about it. \n",
    "\n",
    "Using some type of hashing provides that data integrity - could also use larger key sizes and increase the quality of the type of encryption that we’re doing to be sure that we have the most powerful encryption available."
   ]
  },
  {
   "cell_type": "markdown",
   "id": "1ce9ff85",
   "metadata": {},
   "source": [
    "< [Table of Contents](#top) | [References](#references) >\n",
    "<a id=\"e\"></a>\n",
    "***\n",
    "###### Confidentiality\n",
    "***"
   ]
  },
  {
   "cell_type": "markdown",
   "id": "85302131",
   "metadata": {},
   "source": [
    "If you want to keep information secure then you’ll want to use some type of encryption. \n",
    "\n",
    "This cryptography allows us to keep things secret and private and we can encrypt information that’s either part of a file - can encrypt information on an entire drive or perhaps even on an entire device."
   ]
  },
  {
   "cell_type": "markdown",
   "id": "d87809fd",
   "metadata": {},
   "source": [
    "< [Table of Contents](#top) | [References](#references) >\n",
    "<a id=\"f\"></a>\n",
    "***\n",
    "###### Integrity - Hashing\n",
    "***"
   ]
  },
  {
   "cell_type": "markdown",
   "id": "13704ee8",
   "metadata": {},
   "source": [
    "By using hashing we can also maintain the integrity of data, we could use a hash as we’re downloading files to make sure that the file download has occurred properly or we may want to store information like passwords and hashing allows us to store the password without revealing that password to others."
   ]
  },
  {
   "cell_type": "markdown",
   "id": "1256d7bf",
   "metadata": {},
   "source": [
    "< [Table of Contents](#top) | [References](#references) >\n",
    "<a id=\"g\"></a>\n",
    "***\n",
    "###### Obfuscation\n",
    "***"
   ]
  },
  {
   "cell_type": "markdown",
   "id": "ebd2b6c8",
   "metadata": {},
   "source": [
    "Cryptography also allows us to hide information through the use of obfuscation, for example, malware very commonly encrypts the malware itself within the software that it’s transferring in order to get around the signature based detection that we have in most antivirus and anti-malware products. \n",
    "\n",
    "When the application is executed, the malware is decrypted and it starts executing on the local machine."
   ]
  },
  {
   "cell_type": "markdown",
   "id": "47707114",
   "metadata": {},
   "source": [
    "< [Table of Contents](#top) | [References](#references) >\n",
    "<a id=\"h\"></a>\n",
    "***\n",
    "###### Authentication\n",
    "***"
   ]
  },
  {
   "cell_type": "markdown",
   "id": "15501d32",
   "metadata": {},
   "source": [
    "If you’ve ever logged into a device or authenticated onto a network then you’ve taken advantage of the authentication capabilities of cryptography. \n",
    "\n",
    "Often use hashing to be able to protect passwords and we’re usually doing this so that no one can see the password that we happen to be using - might also add ``Salt`` or some other type of randomization to the password, so that everyone’s hash password is very different than everyone else."
   ]
  },
  {
   "cell_type": "markdown",
   "id": "9adeceaf",
   "metadata": {},
   "source": [
    "< [Table of Contents](#top) | [References](#references) >\n",
    "<a id=\"i\"></a>\n",
    "***\n",
    "###### Non-repudiation - ``Asymmetric Encryption`` - ``Digital Signature``\n",
    "***"
   ]
  },
  {
   "cell_type": "markdown",
   "id": "af2c1c6f",
   "metadata": {},
   "source": [
    "We can combine this hashing with ``Asymmetric Encryption`` to create non-repudiation. \n",
    "\n",
    "This allows us to confirm that the information that we’re receiving from someone really did come from that person - this is usually implemented as a ``Digital Signature``, so that you can be assured that not only did that data come from that person but none of the data that you’re looking at as part of that ``Digital Signature`` was altered from the time that it was originally sent."
   ]
  },
  {
   "cell_type": "markdown",
   "id": "2cc20932",
   "metadata": {},
   "source": [
    "***\n",
    "## END"
   ]
  },
  {
   "cell_type": "markdown",
   "id": "e0e42d51",
   "metadata": {},
   "source": [
    "< [Table of Contents](#top) >\n",
    "<a id=\"references\"></a>\n",
    "***\n",
    "## References\n",
    "***"
   ]
  },
  {
   "cell_type": "markdown",
   "id": "f8aaecbc",
   "metadata": {},
   "source": [
    "J. \"Professor\" Messer, \"CompTIA Security+ (SY0-601) Course Notes,\" [professormesser.com](https://web.archive.org/web/20220521181010/https://www.professormesser.com/security-plus/sy0-601/sy0-601-video/sy0-601-comptia-security-plus-course/), September 2021."
   ]
  },
  {
   "cell_type": "markdown",
   "id": "b33c372a",
   "metadata": {},
   "source": [
    "***\n",
    "## END"
   ]
  },
  {
   "cell_type": "markdown",
   "id": "e5961b4d",
   "metadata": {},
   "source": [
    "< [Table of Contents](#top) | [References](#references) >\n",
    "<a id=\"appendix\"></a>\n",
    "***\n",
    "## Appendix\n",
    "***"
   ]
  },
  {
   "cell_type": "markdown",
   "id": "00d82a82",
   "metadata": {},
   "source": [
    "***\n",
    "## END"
   ]
  },
  {
   "cell_type": "code",
   "execution_count": 1,
   "id": "706756a2",
   "metadata": {},
   "outputs": [
    {
     "name": "stderr",
     "output_type": "stream",
     "text": [
      "C:\\Users\\SeanOhAileasa\\AppData\\Local\\Temp\\ipykernel_14932\\1322614208.py:1: DeprecationWarning: Importing display from IPython.core.display is deprecated since IPython 7.14, please import from IPython display\n",
      "  from IPython.core.display import display,HTML\n"
     ]
    },
    {
     "data": {
      "text/html": [
       "<style>.container { width:100% !important; }</style>"
      ],
      "text/plain": [
       "<IPython.core.display.HTML object>"
      ]
     },
     "metadata": {},
     "output_type": "display_data"
    }
   ],
   "source": [
    "from IPython.core.display import display,HTML\n",
    "display(HTML(\"<style>.container { width:100% !important; }</style>\"))"
   ]
  },
  {
   "cell_type": "markdown",
   "id": "899c1783",
   "metadata": {},
   "source": [
    "# END JUPYTER NOTEBOOK"
   ]
  }
 ],
 "metadata": {
  "kernelspec": {
   "display_name": "Python 3 (ipykernel)",
   "language": "python",
   "name": "python3"
  },
  "language_info": {
   "codemirror_mode": {
    "name": "ipython",
    "version": 3
   },
   "file_extension": ".py",
   "mimetype": "text/x-python",
   "name": "python",
   "nbconvert_exporter": "python",
   "pygments_lexer": "ipython3",
   "version": "3.9.12"
  }
 },
 "nbformat": 4,
 "nbformat_minor": 5
}
